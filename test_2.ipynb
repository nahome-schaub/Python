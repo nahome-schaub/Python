{
 "cells": [
  {
   "cell_type": "code",
   "execution_count": 5,
   "metadata": {},
   "outputs": [
    {
     "name": "stdout",
     "output_type": "stream",
     "text": [
      "Hello my name is Nahome and I am 21 years old. And I study at the University of St. Gallen.\n"
     ]
    }
   ],
   "source": [
    "my_string = \"Nahome\"\n",
    "my_string2 = \"Hello my name is Nahome and I am 21 years old.\"\n",
    "my_string3 = \" And I study at the University of St. Gallen.\"\n",
    "\n",
    "print(my_string2 + my_string3)"
   ]
  },
  {
   "cell_type": "code",
   "execution_count": 6,
   "metadata": {},
   "outputs": [
    {
     "name": "stdout",
     "output_type": "stream",
     "text": [
      "17\n"
     ]
    }
   ],
   "source": [
    "a = 7\n",
    "b = 10\n",
    "print(a + b) #Addition\n",
    "print(a * b) #Multiplication\n",
    "print(a ** b) #A to power of B\n"
   ]
  },
  {
   "cell_type": "code",
   "execution_count": null,
   "metadata": {},
   "outputs": [],
   "source": [
    "my_float = 7.5\n",
    "type(my_float)"
   ]
  }
 ],
 "metadata": {
  "kernelspec": {
   "display_name": "Python 3",
   "language": "python",
   "name": "python3"
  },
  "language_info": {
   "codemirror_mode": {
    "name": "ipython",
    "version": 3
   },
   "file_extension": ".py",
   "mimetype": "text/x-python",
   "name": "python",
   "nbconvert_exporter": "python",
   "pygments_lexer": "ipython3",
   "version": "3.10.6"
  },
  "orig_nbformat": 4
 },
 "nbformat": 4,
 "nbformat_minor": 2
}
